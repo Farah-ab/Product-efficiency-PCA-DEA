{
  "nbformat": 4,
  "nbformat_minor": 0,
  "metadata": {
    "colab": {
      "provenance": []
    },
    "kernelspec": {
      "name": "python3",
      "display_name": "Python 3"
    },
    "language_info": {
      "name": "python"
    }
  },
  "cells": [
    {
      "cell_type": "code",
      "source": [
        "import pandas as pd\n",
        "\n",
        "# Input2: Shipping cost\n",
        "\n",
        "df = pd.read_excel('/Users/farahaboucha/Desktop/Graduation Project/Shipping List Unit Price per product group.xlsx')\n",
        "df = df.fillna(method='ffill').fillna(method='bfill')\n",
        "\n",
        "df.iloc[:, 1:] = df.iloc[:, 1:].apply(pd.to_numeric)\n",
        "df = df.interpolate(method='linear')\n",
        "df.to_excel('/Users/farahaboucha/Desktop/Graduation Project/Filled Input2.xlsx', index=False)\n",
        "\n",
        "#Input4: Product cost\n",
        "\n",
        "cost = pd.read_excel('/Users/farahaboucha/Desktop/Graduation Project/Product cost by product group.xlsx')\n",
        "cost = cost.fillna(method='ffill').fillna(method='bfill')\n",
        "\n",
        "cost.iloc[:, 1:] = df.iloc[:, 1:].apply(pd.to_numeric)\n",
        "cost = cost.interpolate(method='linear')\n",
        "cost.to_excel('/Users/farahaboucha/Desktop/Graduation Project/Filled Input4.xlsx', index=False)\n",
        "\n",
        "#Output 1: Order count\n",
        "\n",
        "count = pd.read_excel('/Users/farahaboucha/Desktop/Graduation Project/Order Count per Product group.xlsx')\n",
        "count = count.fillna(method='ffill').fillna(method='bfill')\n",
        "\n",
        "count.iloc[:, 1:] = count.iloc[:, 1:].apply(pd.to_numeric)\n",
        "count = count.interpolate(method='linear')\n",
        "count.to_excel('/Users/farahaboucha/Desktop/Graduation Project/Filled Output1.xlsx', index=False)\n",
        "\n",
        "\n",
        "# Output 2: Gross profit\n",
        "\n",
        "profit = pd.read_excel('/Users/farahaboucha/Desktop/Graduation Project/Gross profit per product group.xlsx')\n",
        "profit = profit.fillna(method='ffill').fillna(method='bfill')\n",
        "\n",
        "profit.iloc[:, 1:] = profit.iloc[:, 1:].apply(pd.to_numeric)\n",
        "profit = profit.interpolate(method='linear')\n",
        "profit.to_excel('/Users/farahaboucha/Desktop/Graduation Project/Filled Output2.xlsx', index=False)\n",
        "\n",
        "#Output 3: Net promoter score\n",
        "\n",
        "NPS = pd.read_excel('/Users/farahaboucha/Desktop/Graduation Project/NPS by Product Group.xlsx')\n",
        "NPS = NPS.fillna(method='ffill').fillna(method='bfill')\n",
        "\n",
        "NPS.iloc[:, 1:] = NPS.iloc[:, 1:].apply(pd.to_numeric)\n",
        "NPS = NPS.interpolate(method='linear')\n",
        "NPS.to_excel('/Users/farahaboucha/Desktop/Graduation Project/Filled Output3.xlsx', index=False)"
      ],
      "metadata": {
        "id": "tJc9jL4enmzF"
      },
      "execution_count": null,
      "outputs": []
    }
  ]
}