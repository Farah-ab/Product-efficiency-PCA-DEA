{
  "nbformat": 4,
  "nbformat_minor": 0,
  "metadata": {
    "colab": {
      "provenance": []
    },
    "kernelspec": {
      "name": "python3",
      "display_name": "Python 3"
    },
    "language_info": {
      "name": "python"
    }
  },
  "cells": [
    {
      "cell_type": "code",
      "source": [
        "# Input1: Counted rejections\n",
        "\n",
        "df = pd.read_excel('/Users/farahaboucha/Desktop/Graduation Project/Order rejections per product group.xlsx')\n",
        "Counted_Rejections = df['Product ID'].value_counts()\n",
        "\n",
        "Input1 = pd.DataFrame({'Product ID': Counted_Rejections.index, 'Counted Rejections': Counted_Rejections.values})\n",
        "Input1.to_excel('/Users/farahaboucha/Desktop/Graduation Project/Input1.xlsx', engine='openpyxl', index=False)\n",
        "\n",
        "\n",
        "# Input2: Average shipping cost\n",
        "\n",
        "df = pd.read_excel('/Users/farahaboucha/Desktop/Graduation Project/Filled Input2.xlsx')\n",
        "df['Average Shipping Cost'] = df.iloc[:, 1:].mean(axis=1)\n",
        "\n",
        "Input2 = df[['Product ID', 'Average Shipping Cost']].copy()\n",
        "Input2.to_excel('/Users/farahaboucha/Desktop/Graduation Project/Input2.xlsx', index=False)\n",
        "print(Input2.head())\n",
        "\n",
        "\n",
        "# Input3: Average Items wih complaints </h5>\n",
        "\n",
        "df = pd.read_excel('/Users/farahaboucha/Desktop/Graduation Project/Complaint Rate by Product Group Weekly.xlsx')\n",
        "df = df.loc[:, ~df.columns.str.contains('Complaint Rate|Complaint Action Amount|Complaint Items VGP')]\n",
        "df_cleaned = df.dropna(subset=['Items with Complaint'])\n",
        "\n",
        "Input3 = df_cleaned.groupby('Product ID')['Items with Complaint'].mean().reset_index()\n",
        "Input3.to_excel('/Users/farahaboucha/Desktop/Graduation Project/Input3.xlsx', index=False)\n",
        "\n",
        "\n",
        "# Input4: Average product cost </h5>\n",
        "\n",
        "df = pd.read_excel('/Users/farahaboucha/Desktop/Graduation Project/Filled Input4.xlsx')\n",
        "df['Average product cost'] = df.iloc[:, 1:].mean(axis=1)\n",
        "\n",
        "Input4 = df[['Product ID', 'Average product cost']].copy()\n",
        "Input4.to_excel('/Users/farahaboucha/Desktop/Graduation Project/Input4.xlsx', index=False)\n",
        "\n",
        "# Output1: Average order count\n",
        "\n",
        "df = pd.read_excel('/Users/farahaboucha/Desktop/Graduation Project/Filled Output1.xlsx')\n",
        "df['Average Order Count'] = round(df.iloc[:, 1:].mean(axis=1), 0)\n",
        "\n",
        "Output1 = df[['Product ID', 'Average Order Count']].copy()\n",
        "Output1.to_excel('/Users/farahaboucha/Desktop/Graduation Project/Output1.xlsx', index=False)\n",
        "\n",
        "\n",
        "# Output2: Average gross profit\n",
        "\n",
        "df = pd.read_excel('/Users/farahaboucha/Desktop/Graduation Project/Filled Output2.xlsx')\n",
        "df['Average gross profit'] = round(df.iloc[:, 1:].mean(axis=1), 0)\n",
        "\n",
        "Output2 = df[['Product ID', 'Average gross profit']].copy()\n",
        "Output2.to_excel('/Users/farahaboucha/Desktop/Graduation Project/Output2.xlsx', index=False)\n",
        "\n",
        "#Output3: Net promoter score </h5>\n",
        "\n",
        "NPS = pd.read_excel('/Users/farahaboucha/Desktop/Graduation Project/Filled Output3.xlsx')\n",
        "NPS['Monthly NPS'] = round(NPS.iloc[:, 1])\n",
        "\n",
        "Output3 = NPS[['Product ID', 'Monthly NPS']].copy()\n",
        "Output3.to_excel('/Users/farahaboucha/Desktop/Graduation Project/Output3.xlsx', index=False)\n"
      ],
      "metadata": {
        "id": "tJc9jL4enmzF"
      },
      "execution_count": null,
      "outputs": []
    }
  ]
}