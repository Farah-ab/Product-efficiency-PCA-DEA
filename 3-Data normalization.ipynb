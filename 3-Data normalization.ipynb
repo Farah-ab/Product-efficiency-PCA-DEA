{
  "nbformat": 4,
  "nbformat_minor": 0,
  "metadata": {
    "colab": {
      "provenance": []
    },
    "kernelspec": {
      "name": "python3",
      "display_name": "Python 3"
    },
    "language_info": {
      "name": "python"
    }
  },
  "cells": [
    {
      "cell_type": "code",
      "source": [
        "# Merging the variables\n",
        "\n",
        "Input1 = pd.read_excel('/Users/farahaboucha/Desktop/Graduation Project/Input1.xlsx')\n",
        "Input2 = pd.read_excel('/Users/farahaboucha/Desktop/Graduation Project/Input2.xlsx')\n",
        "Input3 = pd.read_excel('/Users/farahaboucha/Desktop/Graduation Project/Input3.xlsx')\n",
        "Input4 = pd.read_excel('/Users/farahaboucha/Desktop/Graduation Project/Input4.xlsx')\n",
        "Output1 = pd.read_excel('/Users/farahaboucha/Desktop/Graduation Project/Output1.xlsx')\n",
        "Output2 = pd.read_excel('/Users/farahaboucha/Desktop/Graduation Project/Output2.xlsx')\n",
        "Output3 = pd.read_excel('/Users/farahaboucha/Desktop/Graduation Project/Output3.xlsx')\n",
        "\n",
        "Dataset = pd.merge(Input1, Input2, on='Product ID')\n",
        "Dataset = pd.merge(Dataset, Input3, on='Product ID')\n",
        "Dataset = pd.merge(Dataset, Input4, on='Product ID')\n",
        "Dataset = pd.merge(Dataset, Output1, on='Product ID')\n",
        "Dataset = pd.merge(Dataset, Output2, on='Product ID')\n",
        "Dataset = pd.merge(Dataset, Output3, on='Product ID')\n",
        "Dataset.to_excel('/Users/farahaboucha/Desktop/Graduation Project/Dataset.xlsx', index=False)\n",
        "\n",
        "# Normalization\n",
        "from sklearn.preprocessing import MinMaxScaler\n",
        "\n",
        "dataset = pd.read_excel('/Users/farahaboucha/Desktop/Graduation Project/Dataset.xlsx')\n",
        "scaler = MinMaxScaler()\n",
        "columns_to_normalize = ['Counted Rejections', 'Average Shipping Cost', 'Items with Complaint', 'Average product cost', 'Average Order Count', 'Average gross profit', 'Monthly NPS']\n",
        "normalized_dataset = scaler.fit_transform(dataset[columns_to_normalize])\n",
        "\n",
        "dataset[columns_to_normalize] = normalized_dataset\n",
        "\n",
        "dataset = dataset.sort_values(by=dataset.columns[0])\n",
        "dataset.to_excel('/Users/farahaboucha/Desktop/Graduation Project/Normalized Dataset.xlsx', index=False)\n"
      ],
      "metadata": {
        "id": "tJc9jL4enmzF"
      },
      "execution_count": null,
      "outputs": []
    }
  ]
}