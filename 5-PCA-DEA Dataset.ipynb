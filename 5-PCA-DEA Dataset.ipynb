{
  "nbformat": 4,
  "nbformat_minor": 0,
  "metadata": {
    "colab": {
      "provenance": []
    },
    "kernelspec": {
      "name": "python3",
      "display_name": "Python 3"
    },
    "language_info": {
      "name": "python"
    }
  },
  "cells": [
    {
      "cell_type": "code",
      "source": [
        "import pandas as pd\n",
        "from sklearn.preprocessing import MinMaxScaler\n",
        "\n",
        "PC_input = pd.read_excel('/Users/farahaboucha/Desktop/Graduation Project/Input scores.xlsx')\n",
        "PC_output = pd.read_excel('/Users/farahaboucha/Desktop/Graduation Project/Output scores.xlsx')\n",
        "PCA_scores = pd.concat([PC_input, PC_output], axis=1)\n",
        "\n",
        "scaler = MinMaxScaler()\n",
        "normalized_scores = scaler.fit_transform(PCA_scores)\n",
        "normalized_dataset = pd.DataFrame(normalized_scores, columns=PCA_scores.columns)\n",
        "\n",
        "dataset = pd.read_excel('/Users/farahaboucha/Desktop/Graduation Project/Normalized Dataset.xlsx')\n",
        "merged_data = pd.concat([dataset, normalized_dataset], axis=1)\n",
        "\n",
        "merged_data.to_excel('/Users/farahaboucha/Desktop/Graduation Project/PCA-DEA Dataset.xlsx', index=False)\n",
        "print(merged_data.head())\n"
      ],
      "metadata": {
        "id": "tJc9jL4enmzF"
      },
      "execution_count": null,
      "outputs": []
    }
  ]
}